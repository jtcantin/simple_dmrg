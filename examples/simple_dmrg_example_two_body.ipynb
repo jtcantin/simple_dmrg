{
 "cells": [
  {
   "cell_type": "markdown",
   "metadata": {},
   "source": [
    "# `simple_dmrg` demonstration"
   ]
  },
  {
   "cell_type": "markdown",
   "metadata": {},
   "source": [
    "See the README.md for documentation on how to install `simple_dmrg`\n",
    "\n",
    "To run this notebook, run the following command in a terminal:\n",
    "`jupyter notebook`\n",
    "\n",
    "Then, open this file in the browser window that opens.\n",
    "\n",
    "More information Jupyter notebooks can be found here: https://www.geeksforgeeks.org/getting-started-with-jupyter-notebook-python/"
   ]
  },
  {
   "cell_type": "code",
   "execution_count": 1,
   "metadata": {},
   "outputs": [],
   "source": [
    "# Imports\n",
    "import numpy as np\n",
    "import simple_dmrg.dmrg_functions as dmrg\n",
    "import simple_dmrg.mps_functions as mps_mpo\n",
    "import simple_dmrg.mpo_operations as mpo_ops\n",
    "import simple_dmrg.mpo_construction as make_mpo"
   ]
  },
  {
   "cell_type": "code",
   "execution_count": 2,
   "metadata": {},
   "outputs": [],
   "source": [
    "# Implement the Hamiltonian as a matrix product operator\n",
    "# The Hamiltonian is simple_dmrg.mpo_constructionwhere c_i^† is the fermionic creation operator for site i,\n",
    "# and h_ij is the one-body tensor element between sites i and j.\n",
    "\n",
    "# Parameters\n",
    "num_sites = 4\n",
    "\n",
    "# # Define the one-body tensor\n",
    "# # Just use a simple diagonal matrix for illustrative purposes\n",
    "# one_body_tensor = np.zeros(shape=(num_sites,num_sites))\n",
    "# one_body_tensor[0,0] = 1\n",
    "# one_body_tensor[1,1] = -3\n",
    "# one_body_tensor[2,2] = -1\n",
    "# one_body_tensor[3,3] = 1\n",
    "# one_body_mpo = make_mpo.make_one_body_mpo(one_body_tensor=one_body_tensor, num_sites=one_body_tensor.shape[0])\n",
    "\n",
    "# Define the two-body tensor\n",
    "# Just use a simple diagonal tensor for illustrative purposes\n",
    "two_body_tensor = np.zeros(shape=(num_sites,num_sites,num_sites,num_sites))\n",
    "two_body_tensor[0,0,0,0] = 1\n",
    "two_body_tensor[1,1,1,1] = -3\n",
    "two_body_tensor[2,2,2,2] = -1\n",
    "two_body_tensor[3,3,3,3] = 1\n",
    "two_body_mpo = make_mpo.make_two_body_mpo(two_body_tensor=two_body_tensor, num_sites=two_body_tensor.shape[0])\n"
   ]
  },
  {
   "cell_type": "code",
   "execution_count": 3,
   "metadata": {},
   "outputs": [],
   "source": [
    "# N_e is the number of electrons, and μ > 0 is the penalty.\n",
    "\n",
    "penalty = 1000 # μ \n",
    "num_particles = 3 # N_e\n",
    "\n",
    "# Add a number penalty term to the Hamiltonian\n",
    "# ∑_i n_i\n",
    "particle_number_mpo = make_mpo.make_particle_number_mpo(num_sites=4) \n",
    "\n",
    "# -∑_i n_i\n",
    "negative_part_num_mpo = mpo_ops.mpo_mult_by_scalar(\n",
    "    mpo=particle_number_mpo, scalar=-1, deposit_site=0\n",
    ")\n",
    "# Identity operator\n",
    "identity_mpo = make_mpo.make_identity_mpo(num_sites=4, num_physical_dims=2)\n",
    "\n",
    "#N_e\n",
    "const_identity_mpo = mpo_ops.mpo_mult_by_scalar(\n",
    "    mpo=identity_mpo, scalar=num_particles, deposit_site=0\n",
    ")\n",
    "\n",
    "#N_e - ∑_i n_i\n",
    "id_min_part_num_mpo = mpo_ops.add_mpos(mpo1=const_identity_mpo, mpo2=negative_part_num_mpo)\n",
    "id_min_part_num_mpo_copy  = id_min_part_num_mpo.copy()\n",
    "\n",
    "# (N_e - ∑_i n_i)^2\n",
    "id_min_part_num_sq_mpo = mpo_ops.multiply_mpos(mpo1=id_min_part_num_mpo, mpo2=id_min_part_num_mpo_copy)\n",
    "\n",
    "# μ  (N_e - ∑_i n_i)^2\n",
    "id_min_part_num_sq_mpo = mpo_ops.mpo_mult_by_scalar(\n",
    "    mpo=id_min_part_num_sq_mpo, scalar=penalty, deposit_site=None\n",
    ")"
   ]
  },
  {
   "cell_type": "code",
   "execution_count": 4,
   "metadata": {},
   "outputs": [],
   "source": [
    "# Add the penalty term to the Hamiltonian\n",
    "two_body_mpo_with_penalty = mpo_ops.add_mpos(mpo1=two_body_mpo, mpo2=id_min_part_num_sq_mpo)"
   ]
  },
  {
   "cell_type": "code",
   "execution_count": 5,
   "metadata": {},
   "outputs": [
    {
     "name": "stdout",
     "output_type": "stream",
     "text": [
      "hamiltonian_matrix is Hermitian: True\n",
      "Max absolute difference between hamiltonian_matrix and hamiltonian_matrix.T.conj(): 0.0\n"
     ]
    }
   ],
   "source": [
    "# Check that the Hamiltonian is Hermitian\n",
    "\n",
    "# Convert the Hamiltonian MPO to a dense matrix\n",
    "hamiltonian_matrix  = mpo_ops.mpo_to_dense_matrix(mpo=two_body_mpo_with_penalty)\n",
    "\n",
    "print(\"hamiltonian_matrix is Hermitian:\",np.allclose(hamiltonian_matrix, hamiltonian_matrix.T.conj()))\n",
    "print(\"Max absolute difference between hamiltonian_matrix and hamiltonian_matrix.T.conj():\",np.max(np.abs(hamiltonian_matrix - hamiltonian_matrix.T.conj())))\n"
   ]
  },
  {
   "cell_type": "code",
   "execution_count": 6,
   "metadata": {},
   "outputs": [
    {
     "name": "stdout",
     "output_type": "stream",
     "text": [
      "Random MPS generated (non-normalized).\n",
      "MPS transformed to right-canonical form.\n",
      "Calculating initial L and R tensors...\n",
      "Initial L and R tensors calculated.\n",
      "---------------------\n",
      "Sweep  0 , left-to-right , site  0\n",
      "Sweep  0 , left-to-right , site  1\n",
      "Sweep  0 , left-to-right , site  2\n",
      "Sweep  0 , left-to-right , site  3\n",
      "---------------------\n",
      "Sweep  0 , right-to-left , site  3\n",
      "Sweep  0 , right-to-left , site  2\n",
      "Sweep  0 , right-to-left , site  1\n",
      "Sweep  0 , right-to-left , site  0\n",
      "---------------------\n",
      "Sweep  1 , left-to-right , site  0\n",
      "Sweep  1 , left-to-right , site  1\n",
      "Sweep  1 , left-to-right , site  2\n",
      "Sweep  1 , left-to-right , site  3\n",
      "---------------------\n",
      "Sweep  1 , right-to-left , site  3\n",
      "Sweep  1 , right-to-left , site  2\n",
      "Sweep  1 , right-to-left , site  1\n",
      "Sweep  1 , right-to-left , site  0\n",
      "---------------------\n",
      "Sweep  2 , left-to-right , site  0\n",
      "Sweep  2 , left-to-right , site  1\n",
      "Sweep  2 , left-to-right , site  2\n",
      "Sweep  2 , left-to-right , site  3\n",
      "---------------------\n",
      "Sweep  2 , right-to-left , site  3\n",
      "Sweep  2 , right-to-left , site  2\n",
      "Sweep  2 , right-to-left , site  1\n",
      "Sweep  2 , right-to-left , site  0\n",
      "---------------------\n",
      "Sweeps complete.\n",
      "ALL EIGENVALUES REAL:  True\n"
     ]
    }
   ],
   "source": [
    "# Run DMRG to find the ground state of the Hamiltonian\n",
    "\n",
    "# Parameters\n",
    "bond_dimension = 10\n",
    "\n",
    "optimized_mps = dmrg.drmg_main(\n",
    "    mpo=two_body_mpo_with_penalty,\n",
    "    num_sites = num_sites,\n",
    "    physical_dimension = 2, # 2 for one possible Fermion per site (aka spin-orbital)\n",
    "    bond_dimension= bond_dimension,\n",
    "    seed = 0, # Random seed for the initial state\n",
    "    num_sweeps = 3, # Number of DMRG sweeps. Each sweep includes a left-to-right and right-to-left sweep\n",
    "    verbosity = 1, # 0: No output, 1: Basic output, 2: Detailed output for debugging\n",
    ")"
   ]
  },
  {
   "cell_type": "code",
   "execution_count": 7,
   "metadata": {},
   "outputs": [
    {
     "name": "stdout",
     "output_type": "stream",
     "text": [
      "Ground state energy: (-2.9999999999965983+0j)\n"
     ]
    }
   ],
   "source": [
    "# Calculate the energy of the optimized_mps, the ground state energy is -3.0\n",
    "\n",
    "gs_energy = mpo_ops.mpo_general_expectation(mps_bra=optimized_mps,mpo=two_body_mpo_with_penalty,mps_ket=optimized_mps)\n",
    "print(\"Ground state energy:\",gs_energy)"
   ]
  },
  {
   "cell_type": "code",
   "execution_count": 8,
   "metadata": {},
   "outputs": [
    {
     "name": "stdout",
     "output_type": "stream",
     "text": [
      "Ground state particle number: (3.0000000000000018+0j)\n"
     ]
    }
   ],
   "source": [
    "# Calculate the particle number of optimized_mps, which should be 3\n",
    "\n",
    "gs_num_particles = mpo_ops.mpo_general_expectation(mps_bra=optimized_mps,mpo=particle_number_mpo,mps_ket=optimized_mps)\n",
    "print(\"Ground state particle number:\",gs_num_particles)"
   ]
  }
 ],
 "metadata": {
  "kernelspec": {
   "display_name": "dmrg_env",
   "language": "python",
   "name": "python3"
  },
  "language_info": {
   "codemirror_mode": {
    "name": "ipython",
    "version": 3
   },
   "file_extension": ".py",
   "mimetype": "text/x-python",
   "name": "python",
   "nbconvert_exporter": "python",
   "pygments_lexer": "ipython3",
   "version": "3.9.17"
  }
 },
 "nbformat": 4,
 "nbformat_minor": 2
}
